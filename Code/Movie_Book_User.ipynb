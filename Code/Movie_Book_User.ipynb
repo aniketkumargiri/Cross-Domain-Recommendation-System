{
 "cells": [
  {
   "cell_type": "code",
   "execution_count": 1,
   "metadata": {},
   "outputs": [],
   "source": [
    "import pandas as pd\n",
    "import numpy as np\n",
    "from ast import literal_eval\n",
    "from sklearn.feature_extraction.text import CountVectorizer\n",
    "from sklearn.metrics.pairwise import cosine_similarity\n",
    "%matplotlib inline"
   ]
  },
  {
   "cell_type": "code",
   "execution_count": 2,
   "metadata": {},
   "outputs": [
    {
     "data": {
      "text/html": [
       "<div>\n",
       "<style scoped>\n",
       "    .dataframe tbody tr th:only-of-type {\n",
       "        vertical-align: middle;\n",
       "    }\n",
       "\n",
       "    .dataframe tbody tr th {\n",
       "        vertical-align: top;\n",
       "    }\n",
       "\n",
       "    .dataframe thead th {\n",
       "        text-align: right;\n",
       "    }\n",
       "</style>\n",
       "<table border=\"1\" class=\"dataframe\">\n",
       "  <thead>\n",
       "    <tr style=\"text-align: right;\">\n",
       "      <th></th>\n",
       "      <th>adult</th>\n",
       "      <th>belongs_to_collection</th>\n",
       "      <th>budget</th>\n",
       "      <th>genres</th>\n",
       "      <th>homepage</th>\n",
       "      <th>id</th>\n",
       "      <th>imdb_id</th>\n",
       "      <th>original_language</th>\n",
       "      <th>original_title</th>\n",
       "      <th>overview</th>\n",
       "      <th>...</th>\n",
       "      <th>release_date</th>\n",
       "      <th>revenue</th>\n",
       "      <th>runtime</th>\n",
       "      <th>spoken_languages</th>\n",
       "      <th>status</th>\n",
       "      <th>tagline</th>\n",
       "      <th>title</th>\n",
       "      <th>video</th>\n",
       "      <th>vote_average</th>\n",
       "      <th>vote_count</th>\n",
       "    </tr>\n",
       "  </thead>\n",
       "  <tbody>\n",
       "    <tr>\n",
       "      <th>0</th>\n",
       "      <td>False</td>\n",
       "      <td>{'id': 10194, 'name': 'Toy Story Collection', ...</td>\n",
       "      <td>30000000</td>\n",
       "      <td>[{'id': 16, 'name': 'Animation'}, {'id': 35, '...</td>\n",
       "      <td>http://toystory.disney.com/toy-story</td>\n",
       "      <td>862</td>\n",
       "      <td>tt0114709</td>\n",
       "      <td>en</td>\n",
       "      <td>Toy Story</td>\n",
       "      <td>Led by Woody, Andy's toys live happily in his ...</td>\n",
       "      <td>...</td>\n",
       "      <td>1995-10-30</td>\n",
       "      <td>373554033.0</td>\n",
       "      <td>81.0</td>\n",
       "      <td>[{'iso_639_1': 'en', 'name': 'English'}]</td>\n",
       "      <td>Released</td>\n",
       "      <td>NaN</td>\n",
       "      <td>Toy Story</td>\n",
       "      <td>False</td>\n",
       "      <td>7.7</td>\n",
       "      <td>5415.0</td>\n",
       "    </tr>\n",
       "    <tr>\n",
       "      <th>1</th>\n",
       "      <td>False</td>\n",
       "      <td>NaN</td>\n",
       "      <td>65000000</td>\n",
       "      <td>[{'id': 12, 'name': 'Adventure'}, {'id': 14, '...</td>\n",
       "      <td>NaN</td>\n",
       "      <td>8844</td>\n",
       "      <td>tt0113497</td>\n",
       "      <td>en</td>\n",
       "      <td>Jumanji</td>\n",
       "      <td>When siblings Judy and Peter discover an encha...</td>\n",
       "      <td>...</td>\n",
       "      <td>1995-12-15</td>\n",
       "      <td>262797249.0</td>\n",
       "      <td>104.0</td>\n",
       "      <td>[{'iso_639_1': 'en', 'name': 'English'}, {'iso...</td>\n",
       "      <td>Released</td>\n",
       "      <td>Roll the dice and unleash the excitement!</td>\n",
       "      <td>Jumanji</td>\n",
       "      <td>False</td>\n",
       "      <td>6.9</td>\n",
       "      <td>2413.0</td>\n",
       "    </tr>\n",
       "    <tr>\n",
       "      <th>2</th>\n",
       "      <td>False</td>\n",
       "      <td>{'id': 119050, 'name': 'Grumpy Old Men Collect...</td>\n",
       "      <td>0</td>\n",
       "      <td>[{'id': 10749, 'name': 'Romance'}, {'id': 35, ...</td>\n",
       "      <td>NaN</td>\n",
       "      <td>15602</td>\n",
       "      <td>tt0113228</td>\n",
       "      <td>en</td>\n",
       "      <td>Grumpier Old Men</td>\n",
       "      <td>A family wedding reignites the ancient feud be...</td>\n",
       "      <td>...</td>\n",
       "      <td>1995-12-22</td>\n",
       "      <td>0.0</td>\n",
       "      <td>101.0</td>\n",
       "      <td>[{'iso_639_1': 'en', 'name': 'English'}]</td>\n",
       "      <td>Released</td>\n",
       "      <td>Still Yelling. Still Fighting. Still Ready for...</td>\n",
       "      <td>Grumpier Old Men</td>\n",
       "      <td>False</td>\n",
       "      <td>6.5</td>\n",
       "      <td>92.0</td>\n",
       "    </tr>\n",
       "    <tr>\n",
       "      <th>3</th>\n",
       "      <td>False</td>\n",
       "      <td>NaN</td>\n",
       "      <td>16000000</td>\n",
       "      <td>[{'id': 35, 'name': 'Comedy'}, {'id': 18, 'nam...</td>\n",
       "      <td>NaN</td>\n",
       "      <td>31357</td>\n",
       "      <td>tt0114885</td>\n",
       "      <td>en</td>\n",
       "      <td>Waiting to Exhale</td>\n",
       "      <td>Cheated on, mistreated and stepped on, the wom...</td>\n",
       "      <td>...</td>\n",
       "      <td>1995-12-22</td>\n",
       "      <td>81452156.0</td>\n",
       "      <td>127.0</td>\n",
       "      <td>[{'iso_639_1': 'en', 'name': 'English'}]</td>\n",
       "      <td>Released</td>\n",
       "      <td>Friends are the people who let you be yourself...</td>\n",
       "      <td>Waiting to Exhale</td>\n",
       "      <td>False</td>\n",
       "      <td>6.1</td>\n",
       "      <td>34.0</td>\n",
       "    </tr>\n",
       "    <tr>\n",
       "      <th>4</th>\n",
       "      <td>False</td>\n",
       "      <td>{'id': 96871, 'name': 'Father of the Bride Col...</td>\n",
       "      <td>0</td>\n",
       "      <td>[{'id': 35, 'name': 'Comedy'}]</td>\n",
       "      <td>NaN</td>\n",
       "      <td>11862</td>\n",
       "      <td>tt0113041</td>\n",
       "      <td>en</td>\n",
       "      <td>Father of the Bride Part II</td>\n",
       "      <td>Just when George Banks has recovered from his ...</td>\n",
       "      <td>...</td>\n",
       "      <td>1995-02-10</td>\n",
       "      <td>76578911.0</td>\n",
       "      <td>106.0</td>\n",
       "      <td>[{'iso_639_1': 'en', 'name': 'English'}]</td>\n",
       "      <td>Released</td>\n",
       "      <td>Just When His World Is Back To Normal... He's ...</td>\n",
       "      <td>Father of the Bride Part II</td>\n",
       "      <td>False</td>\n",
       "      <td>5.7</td>\n",
       "      <td>173.0</td>\n",
       "    </tr>\n",
       "  </tbody>\n",
       "</table>\n",
       "<p>5 rows × 24 columns</p>\n",
       "</div>"
      ],
      "text/plain": [
       "   adult                              belongs_to_collection    budget  \\\n",
       "0  False  {'id': 10194, 'name': 'Toy Story Collection', ...  30000000   \n",
       "1  False                                                NaN  65000000   \n",
       "2  False  {'id': 119050, 'name': 'Grumpy Old Men Collect...         0   \n",
       "3  False                                                NaN  16000000   \n",
       "4  False  {'id': 96871, 'name': 'Father of the Bride Col...         0   \n",
       "\n",
       "                                              genres  \\\n",
       "0  [{'id': 16, 'name': 'Animation'}, {'id': 35, '...   \n",
       "1  [{'id': 12, 'name': 'Adventure'}, {'id': 14, '...   \n",
       "2  [{'id': 10749, 'name': 'Romance'}, {'id': 35, ...   \n",
       "3  [{'id': 35, 'name': 'Comedy'}, {'id': 18, 'nam...   \n",
       "4                     [{'id': 35, 'name': 'Comedy'}]   \n",
       "\n",
       "                               homepage     id    imdb_id original_language  \\\n",
       "0  http://toystory.disney.com/toy-story    862  tt0114709                en   \n",
       "1                                   NaN   8844  tt0113497                en   \n",
       "2                                   NaN  15602  tt0113228                en   \n",
       "3                                   NaN  31357  tt0114885                en   \n",
       "4                                   NaN  11862  tt0113041                en   \n",
       "\n",
       "                original_title  \\\n",
       "0                    Toy Story   \n",
       "1                      Jumanji   \n",
       "2             Grumpier Old Men   \n",
       "3            Waiting to Exhale   \n",
       "4  Father of the Bride Part II   \n",
       "\n",
       "                                            overview  ... release_date  \\\n",
       "0  Led by Woody, Andy's toys live happily in his ...  ...   1995-10-30   \n",
       "1  When siblings Judy and Peter discover an encha...  ...   1995-12-15   \n",
       "2  A family wedding reignites the ancient feud be...  ...   1995-12-22   \n",
       "3  Cheated on, mistreated and stepped on, the wom...  ...   1995-12-22   \n",
       "4  Just when George Banks has recovered from his ...  ...   1995-02-10   \n",
       "\n",
       "       revenue runtime                                   spoken_languages  \\\n",
       "0  373554033.0    81.0           [{'iso_639_1': 'en', 'name': 'English'}]   \n",
       "1  262797249.0   104.0  [{'iso_639_1': 'en', 'name': 'English'}, {'iso...   \n",
       "2          0.0   101.0           [{'iso_639_1': 'en', 'name': 'English'}]   \n",
       "3   81452156.0   127.0           [{'iso_639_1': 'en', 'name': 'English'}]   \n",
       "4   76578911.0   106.0           [{'iso_639_1': 'en', 'name': 'English'}]   \n",
       "\n",
       "     status                                            tagline  \\\n",
       "0  Released                                                NaN   \n",
       "1  Released          Roll the dice and unleash the excitement!   \n",
       "2  Released  Still Yelling. Still Fighting. Still Ready for...   \n",
       "3  Released  Friends are the people who let you be yourself...   \n",
       "4  Released  Just When His World Is Back To Normal... He's ...   \n",
       "\n",
       "                         title  video vote_average vote_count  \n",
       "0                    Toy Story  False          7.7     5415.0  \n",
       "1                      Jumanji  False          6.9     2413.0  \n",
       "2             Grumpier Old Men  False          6.5       92.0  \n",
       "3            Waiting to Exhale  False          6.1       34.0  \n",
       "4  Father of the Bride Part II  False          5.7      173.0  \n",
       "\n",
       "[5 rows x 24 columns]"
      ]
     },
     "execution_count": 2,
     "metadata": {},
     "output_type": "execute_result"
    }
   ],
   "source": [
    "movies = pd.read_csv(\"../Dataset/movies/movies_metadata.csv\", low_memory=False)\n",
    "movies.head()"
   ]
  },
  {
   "cell_type": "code",
   "execution_count": 3,
   "metadata": {},
   "outputs": [],
   "source": [
    "movies['genres'] = movies['genres'].fillna('[]').apply(literal_eval).apply(lambda x: [i['name'] for i in x] if isinstance(x, list) else [])\n"
   ]
  },
  {
   "cell_type": "code",
   "execution_count": 4,
   "metadata": {},
   "outputs": [
    {
     "data": {
      "text/html": [
       "<div>\n",
       "<style scoped>\n",
       "    .dataframe tbody tr th:only-of-type {\n",
       "        vertical-align: middle;\n",
       "    }\n",
       "\n",
       "    .dataframe tbody tr th {\n",
       "        vertical-align: top;\n",
       "    }\n",
       "\n",
       "    .dataframe thead th {\n",
       "        text-align: right;\n",
       "    }\n",
       "</style>\n",
       "<table border=\"1\" class=\"dataframe\">\n",
       "  <thead>\n",
       "    <tr style=\"text-align: right;\">\n",
       "      <th></th>\n",
       "      <th>id</th>\n",
       "      <th>keywords</th>\n",
       "    </tr>\n",
       "  </thead>\n",
       "  <tbody>\n",
       "    <tr>\n",
       "      <th>0</th>\n",
       "      <td>862</td>\n",
       "      <td>[{'id': 931, 'name': 'jealousy'}, {'id': 4290,...</td>\n",
       "    </tr>\n",
       "    <tr>\n",
       "      <th>1</th>\n",
       "      <td>8844</td>\n",
       "      <td>[{'id': 10090, 'name': 'board game'}, {'id': 1...</td>\n",
       "    </tr>\n",
       "    <tr>\n",
       "      <th>2</th>\n",
       "      <td>15602</td>\n",
       "      <td>[{'id': 1495, 'name': 'fishing'}, {'id': 12392...</td>\n",
       "    </tr>\n",
       "    <tr>\n",
       "      <th>3</th>\n",
       "      <td>31357</td>\n",
       "      <td>[{'id': 818, 'name': 'based on novel'}, {'id':...</td>\n",
       "    </tr>\n",
       "    <tr>\n",
       "      <th>4</th>\n",
       "      <td>11862</td>\n",
       "      <td>[{'id': 1009, 'name': 'baby'}, {'id': 1599, 'n...</td>\n",
       "    </tr>\n",
       "  </tbody>\n",
       "</table>\n",
       "</div>"
      ],
      "text/plain": [
       "      id                                           keywords\n",
       "0    862  [{'id': 931, 'name': 'jealousy'}, {'id': 4290,...\n",
       "1   8844  [{'id': 10090, 'name': 'board game'}, {'id': 1...\n",
       "2  15602  [{'id': 1495, 'name': 'fishing'}, {'id': 12392...\n",
       "3  31357  [{'id': 818, 'name': 'based on novel'}, {'id':...\n",
       "4  11862  [{'id': 1009, 'name': 'baby'}, {'id': 1599, 'n..."
      ]
     },
     "execution_count": 4,
     "metadata": {},
     "output_type": "execute_result"
    }
   ],
   "source": [
    "keywords = pd.read_csv('../Dataset/movies/keywords.csv')\n",
    "keywords.head()\n"
   ]
  },
  {
   "attachments": {},
   "cell_type": "markdown",
   "metadata": {},
   "source": [
    "Removing movies which have malformed id"
   ]
  },
  {
   "cell_type": "code",
   "execution_count": 5,
   "metadata": {},
   "outputs": [
    {
     "name": "stdout",
     "output_type": "stream",
     "text": [
      "45466\n",
      "45463\n"
     ]
    }
   ],
   "source": [
    "def clean_ids(x):\n",
    "    try:\n",
    "        return int(x)\n",
    "    except:\n",
    "        return np.nan\n",
    "    \n",
    "print(len(movies['id']))\n",
    "movies['id'] = movies['id'].apply(clean_ids)\n",
    "movies = movies[movies['id'].notnull()]\n",
    "print(len(movies['id']))"
   ]
  },
  {
   "attachments": {},
   "cell_type": "markdown",
   "metadata": {},
   "source": [
    "Typecasting movies['id'] col and keywords['id'] col, and merging"
   ]
  },
  {
   "cell_type": "code",
   "execution_count": 6,
   "metadata": {},
   "outputs": [],
   "source": [
    "movies['id'] = movies['id'].astype('int')\n",
    "keywords['id'] = keywords['id'].astype('int')\n",
    "\n",
    "movies = movies.merge(keywords, on='id')\n"
   ]
  },
  {
   "cell_type": "code",
   "execution_count": 7,
   "metadata": {},
   "outputs": [
    {
     "data": {
      "text/plain": [
       "\"[{'id': 931, 'name': 'jealousy'}, {'id': 4290, 'name': 'toy'}, {'id': 5202, 'name': 'boy'}, {'id': 6054, 'name': 'friendship'}, {'id': 9713, 'name': 'friends'}, {'id': 9823, 'name': 'rivalry'}, {'id': 165503, 'name': 'boy next door'}, {'id': 170722, 'name': 'new toy'}, {'id': 187065, 'name': 'toy comes to life'}]\""
      ]
     },
     "execution_count": 7,
     "metadata": {},
     "output_type": "execute_result"
    }
   ],
   "source": [
    "movies[\"keywords\"][0]"
   ]
  },
  {
   "cell_type": "code",
   "execution_count": 8,
   "metadata": {},
   "outputs": [],
   "source": [
    "movies[\"keywords\"] = movies[\"keywords\"].apply(literal_eval)"
   ]
  },
  {
   "cell_type": "code",
   "execution_count": 9,
   "metadata": {},
   "outputs": [
    {
     "data": {
      "text/html": [
       "<div>\n",
       "<style scoped>\n",
       "    .dataframe tbody tr th:only-of-type {\n",
       "        vertical-align: middle;\n",
       "    }\n",
       "\n",
       "    .dataframe tbody tr th {\n",
       "        vertical-align: top;\n",
       "    }\n",
       "\n",
       "    .dataframe thead th {\n",
       "        text-align: right;\n",
       "    }\n",
       "</style>\n",
       "<table border=\"1\" class=\"dataframe\">\n",
       "  <thead>\n",
       "    <tr style=\"text-align: right;\">\n",
       "      <th></th>\n",
       "      <th>title</th>\n",
       "      <th>keywords</th>\n",
       "      <th>genres</th>\n",
       "      <th>id</th>\n",
       "    </tr>\n",
       "  </thead>\n",
       "  <tbody>\n",
       "    <tr>\n",
       "      <th>0</th>\n",
       "      <td>Toy Story</td>\n",
       "      <td>[jealousy, toy, boy, friendship, friends, riva...</td>\n",
       "      <td>[Animation, Comedy, Family]</td>\n",
       "      <td>862</td>\n",
       "    </tr>\n",
       "    <tr>\n",
       "      <th>1</th>\n",
       "      <td>Jumanji</td>\n",
       "      <td>[board game, disappearance, based on children'...</td>\n",
       "      <td>[Adventure, Fantasy, Family]</td>\n",
       "      <td>8844</td>\n",
       "    </tr>\n",
       "    <tr>\n",
       "      <th>2</th>\n",
       "      <td>Grumpier Old Men</td>\n",
       "      <td>[fishing, best friend, duringcreditsstinger, o...</td>\n",
       "      <td>[Romance, Comedy]</td>\n",
       "      <td>15602</td>\n",
       "    </tr>\n",
       "    <tr>\n",
       "      <th>3</th>\n",
       "      <td>Waiting to Exhale</td>\n",
       "      <td>[based on novel, interracial relationship, sin...</td>\n",
       "      <td>[Comedy, Drama, Romance]</td>\n",
       "      <td>31357</td>\n",
       "    </tr>\n",
       "    <tr>\n",
       "      <th>4</th>\n",
       "      <td>Father of the Bride Part II</td>\n",
       "      <td>[baby, midlife crisis, confidence, aging, daug...</td>\n",
       "      <td>[Comedy]</td>\n",
       "      <td>11862</td>\n",
       "    </tr>\n",
       "  </tbody>\n",
       "</table>\n",
       "</div>"
      ],
      "text/plain": [
       "                         title  \\\n",
       "0                    Toy Story   \n",
       "1                      Jumanji   \n",
       "2             Grumpier Old Men   \n",
       "3            Waiting to Exhale   \n",
       "4  Father of the Bride Part II   \n",
       "\n",
       "                                            keywords  \\\n",
       "0  [jealousy, toy, boy, friendship, friends, riva...   \n",
       "1  [board game, disappearance, based on children'...   \n",
       "2  [fishing, best friend, duringcreditsstinger, o...   \n",
       "3  [based on novel, interracial relationship, sin...   \n",
       "4  [baby, midlife crisis, confidence, aging, daug...   \n",
       "\n",
       "                         genres     id  \n",
       "0   [Animation, Comedy, Family]    862  \n",
       "1  [Adventure, Fantasy, Family]   8844  \n",
       "2             [Romance, Comedy]  15602  \n",
       "3      [Comedy, Drama, Romance]  31357  \n",
       "4                      [Comedy]  11862  "
      ]
     },
     "execution_count": 9,
     "metadata": {},
     "output_type": "execute_result"
    }
   ],
   "source": [
    "def generate_list(x):\n",
    "    if isinstance(x, list):\n",
    "        names = [i['name'] for i in x]\n",
    "        if len(names) > 10:\n",
    "            names = names[:10]\n",
    "        return names\n",
    "    return []\n",
    "\n",
    "movies['keywords'] = movies['keywords'].apply(generate_list)\n",
    "movies['genres'] = movies['genres'].apply(lambda x: x[:10])\n",
    "\n",
    "movies[['title', 'keywords', 'genres', 'id']].head()"
   ]
  },
  {
   "cell_type": "code",
   "execution_count": 10,
   "metadata": {},
   "outputs": [],
   "source": [
    "def sanitize(x):\n",
    "    if isinstance(x, list):\n",
    "        return [str.lower(i.replace(' ','')) for i in x]\n",
    "    else:\n",
    "        if isinstance(x, str):\n",
    "            return str.lower(x.replace(' ', ''))\n",
    "        else:\n",
    "            return ''\n",
    "\n",
    "for feature in ['genres', 'keywords']:\n",
    "    movies[feature] = movies[feature].apply(sanitize)"
   ]
  },
  {
   "attachments": {},
   "cell_type": "markdown",
   "metadata": {},
   "source": [
    "Using Title, Geners Overview Keywords as features"
   ]
  },
  {
   "cell_type": "code",
   "execution_count": 11,
   "metadata": {},
   "outputs": [],
   "source": [
    "def movie_soup(x):\n",
    "    return  x[\"title\"] + \" \" + \" \".join(x['genres']) + \" \"+x['overview']+\" \"+\" \".join(x['keywords'])\n",
    "\n",
    "movies['overview'] = movies['overview'].fillna('')\n",
    "movies['title'] = movies['title'].fillna('')\n",
    "movies['soup'] = movies.apply(movie_soup, axis=1)"
   ]
  },
  {
   "cell_type": "code",
   "execution_count": 12,
   "metadata": {},
   "outputs": [
    {
     "data": {
      "text/plain": [
       "array(['The Matrix action sciencefiction Set in the 22nd century, The Matrix tells the story of a computer hacker who joins a group of underground insurgents fighting the vast and powerful computers who now rule the earth. savingtheworld artificialintelligence manvsmachine philosophy prophecy martialarts selfsacrifice fight insurgence virtualreality'],\n",
       "      dtype=object)"
      ]
     },
     "execution_count": 12,
     "metadata": {},
     "output_type": "execute_result"
    }
   ],
   "source": [
    "id = movies.loc[movies['title'] == \"The Matrix\"]['id']\n",
    "id = int(id)\n",
    "movies.loc[movies['id']==id,'soup'].values"
   ]
  },
  {
   "cell_type": "code",
   "execution_count": 13,
   "metadata": {},
   "outputs": [
    {
     "data": {
      "text/html": [
       "<div>\n",
       "<style scoped>\n",
       "    .dataframe tbody tr th:only-of-type {\n",
       "        vertical-align: middle;\n",
       "    }\n",
       "\n",
       "    .dataframe tbody tr th {\n",
       "        vertical-align: top;\n",
       "    }\n",
       "\n",
       "    .dataframe thead th {\n",
       "        text-align: right;\n",
       "    }\n",
       "</style>\n",
       "<table border=\"1\" class=\"dataframe\">\n",
       "  <thead>\n",
       "    <tr style=\"text-align: right;\">\n",
       "      <th></th>\n",
       "      <th>id</th>\n",
       "      <th>book_id</th>\n",
       "      <th>best_book_id</th>\n",
       "      <th>work_id</th>\n",
       "      <th>books_count</th>\n",
       "      <th>isbn</th>\n",
       "      <th>isbn13</th>\n",
       "      <th>authors</th>\n",
       "      <th>original_publication_year</th>\n",
       "      <th>original_title</th>\n",
       "      <th>...</th>\n",
       "      <th>ratings_1</th>\n",
       "      <th>ratings_2</th>\n",
       "      <th>ratings_3</th>\n",
       "      <th>ratings_4</th>\n",
       "      <th>ratings_5</th>\n",
       "      <th>image_url</th>\n",
       "      <th>small_image_url</th>\n",
       "      <th>goodreads_book_id</th>\n",
       "      <th>tag_name</th>\n",
       "      <th>description</th>\n",
       "    </tr>\n",
       "  </thead>\n",
       "  <tbody>\n",
       "    <tr>\n",
       "      <th>0</th>\n",
       "      <td>1</td>\n",
       "      <td>2767052</td>\n",
       "      <td>2767052</td>\n",
       "      <td>2792775</td>\n",
       "      <td>272</td>\n",
       "      <td>439023483</td>\n",
       "      <td>9.780439e+12</td>\n",
       "      <td>Suzanne Collins</td>\n",
       "      <td>2008.0</td>\n",
       "      <td>The Hunger Games</td>\n",
       "      <td>...</td>\n",
       "      <td>66715</td>\n",
       "      <td>127936</td>\n",
       "      <td>560092</td>\n",
       "      <td>1481305</td>\n",
       "      <td>2706317</td>\n",
       "      <td>https://images.gr-assets.com/books/1447303603m...</td>\n",
       "      <td>https://images.gr-assets.com/books/1447303603s...</td>\n",
       "      <td>2767052</td>\n",
       "      <td>[]</td>\n",
       "      <td>WINNING MEANS FAME AND FORTUNE.LOSING MEANS CE...</td>\n",
       "    </tr>\n",
       "    <tr>\n",
       "      <th>1</th>\n",
       "      <td>2</td>\n",
       "      <td>3</td>\n",
       "      <td>3</td>\n",
       "      <td>4640799</td>\n",
       "      <td>491</td>\n",
       "      <td>439554934</td>\n",
       "      <td>9.780440e+12</td>\n",
       "      <td>J.K. Rowling, Mary GrandPré</td>\n",
       "      <td>1997.0</td>\n",
       "      <td>Harry Potter and the Philosopher's Stone</td>\n",
       "      <td>...</td>\n",
       "      <td>75504</td>\n",
       "      <td>101676</td>\n",
       "      <td>455024</td>\n",
       "      <td>1156318</td>\n",
       "      <td>3011543</td>\n",
       "      <td>https://images.gr-assets.com/books/1474154022m...</td>\n",
       "      <td>https://images.gr-assets.com/books/1474154022s...</td>\n",
       "      <td>3</td>\n",
       "      <td>['books', 'bbc', 'books', 'every', 'man', 'sho...</td>\n",
       "      <td>Harry Potter's life is miserable. His parents ...</td>\n",
       "    </tr>\n",
       "    <tr>\n",
       "      <th>2</th>\n",
       "      <td>3</td>\n",
       "      <td>41865</td>\n",
       "      <td>41865</td>\n",
       "      <td>3212258</td>\n",
       "      <td>226</td>\n",
       "      <td>316015849</td>\n",
       "      <td>9.780316e+12</td>\n",
       "      <td>Stephenie Meyer</td>\n",
       "      <td>2005.0</td>\n",
       "      <td>Twilight</td>\n",
       "      <td>...</td>\n",
       "      <td>456191</td>\n",
       "      <td>436802</td>\n",
       "      <td>793319</td>\n",
       "      <td>875073</td>\n",
       "      <td>1355439</td>\n",
       "      <td>https://images.gr-assets.com/books/1361039443m...</td>\n",
       "      <td>https://images.gr-assets.com/books/1361039443s...</td>\n",
       "      <td>41865</td>\n",
       "      <td>[]</td>\n",
       "      <td>About three things I was absolutely positive.F...</td>\n",
       "    </tr>\n",
       "    <tr>\n",
       "      <th>3</th>\n",
       "      <td>4</td>\n",
       "      <td>2657</td>\n",
       "      <td>2657</td>\n",
       "      <td>3275794</td>\n",
       "      <td>487</td>\n",
       "      <td>61120081</td>\n",
       "      <td>9.780061e+12</td>\n",
       "      <td>Harper Lee</td>\n",
       "      <td>1960.0</td>\n",
       "      <td>To Kill a Mockingbird</td>\n",
       "      <td>...</td>\n",
       "      <td>60427</td>\n",
       "      <td>117415</td>\n",
       "      <td>446835</td>\n",
       "      <td>1001952</td>\n",
       "      <td>1714267</td>\n",
       "      <td>https://images.gr-assets.com/books/1361975680m...</td>\n",
       "      <td>https://images.gr-assets.com/books/1361975680s...</td>\n",
       "      <td>2657</td>\n",
       "      <td>['mercenaries', 'mercenary', 'mercer', 'mayer'...</td>\n",
       "      <td>The unforgettable novel of a childhood in a sl...</td>\n",
       "    </tr>\n",
       "    <tr>\n",
       "      <th>4</th>\n",
       "      <td>5</td>\n",
       "      <td>4671</td>\n",
       "      <td>4671</td>\n",
       "      <td>245494</td>\n",
       "      <td>1356</td>\n",
       "      <td>743273567</td>\n",
       "      <td>9.780743e+12</td>\n",
       "      <td>F. Scott Fitzgerald</td>\n",
       "      <td>1925.0</td>\n",
       "      <td>The Great Gatsby</td>\n",
       "      <td>...</td>\n",
       "      <td>86236</td>\n",
       "      <td>197621</td>\n",
       "      <td>606158</td>\n",
       "      <td>936012</td>\n",
       "      <td>947718</td>\n",
       "      <td>https://images.gr-assets.com/books/1490528560m...</td>\n",
       "      <td>https://images.gr-assets.com/books/1490528560s...</td>\n",
       "      <td>4671</td>\n",
       "      <td>[]</td>\n",
       "      <td>Alternate Cover Edition ISBN: 0743273567 (ISBN...</td>\n",
       "    </tr>\n",
       "  </tbody>\n",
       "</table>\n",
       "<p>5 rows × 26 columns</p>\n",
       "</div>"
      ],
      "text/plain": [
       "   id  book_id  best_book_id  work_id  books_count       isbn        isbn13  \\\n",
       "0   1  2767052       2767052  2792775          272  439023483  9.780439e+12   \n",
       "1   2        3             3  4640799          491  439554934  9.780440e+12   \n",
       "2   3    41865         41865  3212258          226  316015849  9.780316e+12   \n",
       "3   4     2657          2657  3275794          487   61120081  9.780061e+12   \n",
       "4   5     4671          4671   245494         1356  743273567  9.780743e+12   \n",
       "\n",
       "                       authors  original_publication_year  \\\n",
       "0              Suzanne Collins                     2008.0   \n",
       "1  J.K. Rowling, Mary GrandPré                     1997.0   \n",
       "2              Stephenie Meyer                     2005.0   \n",
       "3                   Harper Lee                     1960.0   \n",
       "4          F. Scott Fitzgerald                     1925.0   \n",
       "\n",
       "                             original_title  ... ratings_1 ratings_2  \\\n",
       "0                          The Hunger Games  ...     66715    127936   \n",
       "1  Harry Potter and the Philosopher's Stone  ...     75504    101676   \n",
       "2                                  Twilight  ...    456191    436802   \n",
       "3                     To Kill a Mockingbird  ...     60427    117415   \n",
       "4                          The Great Gatsby  ...     86236    197621   \n",
       "\n",
       "   ratings_3  ratings_4  ratings_5  \\\n",
       "0     560092    1481305    2706317   \n",
       "1     455024    1156318    3011543   \n",
       "2     793319     875073    1355439   \n",
       "3     446835    1001952    1714267   \n",
       "4     606158     936012     947718   \n",
       "\n",
       "                                           image_url  \\\n",
       "0  https://images.gr-assets.com/books/1447303603m...   \n",
       "1  https://images.gr-assets.com/books/1474154022m...   \n",
       "2  https://images.gr-assets.com/books/1361039443m...   \n",
       "3  https://images.gr-assets.com/books/1361975680m...   \n",
       "4  https://images.gr-assets.com/books/1490528560m...   \n",
       "\n",
       "                                     small_image_url  goodreads_book_id  \\\n",
       "0  https://images.gr-assets.com/books/1447303603s...            2767052   \n",
       "1  https://images.gr-assets.com/books/1474154022s...                  3   \n",
       "2  https://images.gr-assets.com/books/1361039443s...              41865   \n",
       "3  https://images.gr-assets.com/books/1361975680s...               2657   \n",
       "4  https://images.gr-assets.com/books/1490528560s...               4671   \n",
       "\n",
       "                                            tag_name  \\\n",
       "0                                                 []   \n",
       "1  ['books', 'bbc', 'books', 'every', 'man', 'sho...   \n",
       "2                                                 []   \n",
       "3  ['mercenaries', 'mercenary', 'mercer', 'mayer'...   \n",
       "4                                                 []   \n",
       "\n",
       "                                         description  \n",
       "0  WINNING MEANS FAME AND FORTUNE.LOSING MEANS CE...  \n",
       "1  Harry Potter's life is miserable. His parents ...  \n",
       "2  About three things I was absolutely positive.F...  \n",
       "3  The unforgettable novel of a childhood in a sl...  \n",
       "4  Alternate Cover Edition ISBN: 0743273567 (ISBN...  \n",
       "\n",
       "[5 rows x 26 columns]"
      ]
     },
     "execution_count": 13,
     "metadata": {},
     "output_type": "execute_result"
    }
   ],
   "source": [
    "books = pd.read_csv(\"../Dataset/top2k_book_descriptions/top2k_book_descriptions.csv\", index_col=0)\n",
    "books.head()"
   ]
  },
  {
   "cell_type": "code",
   "execution_count": 14,
   "metadata": {},
   "outputs": [
    {
     "data": {
      "text/plain": [
       "\"['books', 'bbc', 'books', 'every', 'man', 'should', 'read', 'books', 'own', 'for', 'books', 'that', 'define', 'the', 'books', 'to', 'read', 'books', 'to', 'read', 'before', 'you', 'die', 'books', 'to', 'read', 'in', 'lifetime', 'books', 'to', 'read', 'my', 'version', 'bullets', 'children', 'books', 'essential', 'novels', 'essential', 'novels', 'poster', 'fiction', 'greatest', 'greatest', 'books', 'ever', 'written', 'greatest', 'novels', 'in', 'list', 'modern', 'library', 'must', 'read', 'books', 'must', 'read', 'books', 'the', 'essential', 'novels', 'everyone', 'should', 'read', 'recommended', 'year', 'war', 'years', 'war', 'book', 'before', 'kindergarten', 'book', 'goal', 'books', 'books', 'before', 'kindergarten', 'books', 'to', 'read', 'before', 'you', 'die', 'by', 'good', 'books', 'harry', 'novels', 'plus', 'pages', 'before', 'you', 'die', 'book', 'book', 'list', 'books', 'books', 'books', 'before', 'die', 'books', 'before', 'you', 'die', 'books', 'challenge', 'books', 'have', 'read', 'books', 'list', 'books', 'read', 'books', 'to', 'read', 'books', 'to', 'read', 'before', 'adult', 'books', 'to', 'read', 'before', 'die', 'books', 'to', 'read', 'before', 'you', 'die', 'books', 'you', 'must', 'read', 'books', 'you', 'must', 'read', 'you', 'die', 'books', 'you', 'must', 'read', 'before', 'you', 'bymrbyd', 'challenge', 'children', 'books', 'children', 'books', 'you', 'must', 'read', 'childrens', 'books', 'comics', 'import', 'kids', 'plus', 'kids', 'plus', 'kids', 'books', 'libri', 'libri', 'da', 'leggere', 'list', 'must', 'read', 'must', 'read', 'books', 'must', 'reads', 'read', 'to', 'read', 'to', 'read', 'before', 'you', 'die', 'unread', 'books', 'bibles', 'tools', 'books', 'that', 'you', 'must', 'read', 'before', 'books', 'to', 'read', 'before', 'you', 'die', 'lire', 'dans', 'sa', 'vie', 'st', 'airborne', 'miscellaneous', 'th', 'century', 'th', 'grade', 'th', 'grade', 'advisory', 'th', 'grade', 'books', 'th', 'grade', 'reading', 'birthdays', 'disabilities', 'in', 'class', 'november', 'th', 'century', 'th', 'grade', 'th', 'grade', 'advisory']\""
      ]
     },
     "execution_count": 14,
     "metadata": {},
     "output_type": "execute_result"
    }
   ],
   "source": [
    "books['tag_name'][1]"
   ]
  },
  {
   "cell_type": "code",
   "execution_count": 15,
   "metadata": {},
   "outputs": [],
   "source": [
    "books['tag_name'] = books['tag_name'].apply(lambda x: literal_eval(x) if literal_eval(x) else np.nan)\n",
    "books = books[books['description'].notnull() | books['tag_name'].notnull()]\n",
    "books = books.fillna('')"
   ]
  },
  {
   "cell_type": "code",
   "execution_count": 16,
   "metadata": {},
   "outputs": [],
   "source": [
    "def book_soup(x):\n",
    "    soup = x[\"original_title\"]+\" \"+x[\"description\"]+\" \"+\" \".join(x['tag_name'])+\" \"+x[\"authors\"]\n",
    "    return soup"
   ]
  },
  {
   "cell_type": "code",
   "execution_count": 17,
   "metadata": {},
   "outputs": [
    {
     "data": {
      "text/plain": [
       "\"The Hunger Games WINNING MEANS FAME AND FORTUNE.LOSING MEANS CERTAIN DEATH.THE HUNGER GAMES HAVE BEGUN. . . .In the ruins of a place once known as North America lies the nation of Panem, a shining Capitol surrounded by twelve outlying districts. The Capitol is harsh and cruel and keeps the districts in line by forcing them all to send one boy and once girl between the ages of twelve and eighteen to participate in the annual Hunger Games, a fight to the death on live TV.Sixteen-year-old Katniss Everdeen regards it as a death sentence when she steps forward to take her sister's place in the Games. But Katniss has been close to dead before—and survival, for her, is second nature. Without really meaning to, she becomes a contender. But if she is to win, she will have to start making choices that weight survival against humanity and life against love.  Suzanne Collins\""
      ]
     },
     "execution_count": 17,
     "metadata": {},
     "output_type": "execute_result"
    }
   ],
   "source": [
    "books[\"soup\"] = books.apply(book_soup, axis=1)\n",
    "books[\"soup\"][0]"
   ]
  },
  {
   "cell_type": "code",
   "execution_count": 18,
   "metadata": {},
   "outputs": [
    {
     "name": "stdout",
     "output_type": "stream",
     "text": [
      "0        Toy Story animation comedy family Led by Woody...\n",
      "1        Jumanji adventure fantasy family When siblings...\n",
      "2        Grumpier Old Men romance comedy A family weddi...\n",
      "3        Waiting to Exhale comedy drama romance Cheated...\n",
      "4        Father of the Bride Part II comedy Just when G...\n",
      "                               ...                        \n",
      "46477    Subdue drama family Rising and falling between...\n",
      "46478    Century of Birthing drama An artist struggles ...\n",
      "46479    Betrayal action drama thriller When one of her...\n",
      "46480    Satan Triumphant  In a small town live two bro...\n",
      "46481    Queerama  50 years after decriminalisation of ...\n",
      "Name: soup, Length: 46482, dtype: object\n"
     ]
    }
   ],
   "source": [
    "print(movies['soup'])"
   ]
  },
  {
   "cell_type": "code",
   "execution_count": 19,
   "metadata": {},
   "outputs": [
    {
     "name": "stdout",
     "output_type": "stream",
     "text": [
      "0       The Hunger Games WINNING MEANS FAME AND FORTUN...\n",
      "1       Harry Potter and the Philosopher's Stone Harry...\n",
      "2       Twilight About three things I was absolutely p...\n",
      "3       To Kill a Mockingbird The unforgettable novel ...\n",
      "4       The Great Gatsby Alternate Cover Edition ISBN:...\n",
      "                              ...                        \n",
      "1995    Simon vs. the Homo Sapiens Agenda Sixteen-year...\n",
      "1996    Perfection Zoe is used to taking care of herse...\n",
      "1997    Come Away with Me An alternate cover edition c...\n",
      "1998    Ms. Marvel, Vol. 1: No Normal Marvel Comics pr...\n",
      "1999    A Court of Wings and Ruin Looming war threaten...\n",
      "Name: soup, Length: 1987, dtype: object\n"
     ]
    }
   ],
   "source": [
    "print(books['soup'])"
   ]
  },
  {
   "cell_type": "code",
   "execution_count": 20,
   "metadata": {},
   "outputs": [
    {
     "name": "stdout",
     "output_type": "stream",
     "text": [
      "0        Toy Story animation comedy family Led by Woody...\n",
      "1        Jumanji adventure fantasy family When siblings...\n",
      "2        Grumpier Old Men romance comedy A family weddi...\n",
      "3        Waiting to Exhale comedy drama romance Cheated...\n",
      "4        Father of the Bride Part II comedy Just when G...\n",
      "                               ...                        \n",
      "48464    Simon vs. the Homo Sapiens Agenda Sixteen-year...\n",
      "48465    Perfection Zoe is used to taking care of herse...\n",
      "48466    Come Away with Me An alternate cover edition c...\n",
      "48467    Ms. Marvel, Vol. 1: No Normal Marvel Comics pr...\n",
      "48468    A Court of Wings and Ruin Looming war threaten...\n",
      "Name: soup, Length: 48469, dtype: object\n"
     ]
    }
   ],
   "source": [
    "\n",
    "soups = pd.concat([movies['soup'],books['soup']],ignore_index=True)\n",
    "print(soups)\n"
   ]
  },
  {
   "attachments": {},
   "cell_type": "markdown",
   "metadata": {},
   "source": [
    "vectorizing the input (One HOT Vectors)"
   ]
  },
  {
   "cell_type": "code",
   "execution_count": 21,
   "metadata": {},
   "outputs": [
    {
     "name": "stdout",
     "output_type": "stream",
     "text": [
      "None\n"
     ]
    },
    {
     "data": {
      "text/plain": [
       "((1987, 98296), (46482, 98296))"
      ]
     },
     "execution_count": 21,
     "metadata": {},
     "output_type": "execute_result"
    }
   ],
   "source": [
    "count = CountVectorizer(stop_words = \"english\")\n",
    "count.fit(soups)\n",
    "print(count.vocabulary)\n",
    "\n",
    "movies_matrix = count.transform(movies['soup'])\n",
    "books_matrix = count.transform(books['soup'])\n",
    "\n",
    "books_matrix.shape, movies_matrix.shape"
   ]
  },
  {
   "cell_type": "code",
   "execution_count": 22,
   "metadata": {},
   "outputs": [],
   "source": [
    "# %pip install tensorflow\n"
   ]
  },
  {
   "cell_type": "code",
   "execution_count": 23,
   "metadata": {},
   "outputs": [
    {
     "data": {
      "text/plain": [
       "(46482, 1987)"
      ]
     },
     "execution_count": 23,
     "metadata": {},
     "output_type": "execute_result"
    }
   ],
   "source": [
    "cosine_sim = cosine_similarity(movies_matrix, books_matrix)\n",
    "cosine_sim.shape"
   ]
  },
  {
   "cell_type": "code",
   "execution_count": 24,
   "metadata": {},
   "outputs": [
    {
     "data": {
      "text/plain": [
       "title\n",
       "toy story                          0\n",
       "jumanji                            1\n",
       "grumpier old men                   2\n",
       "waiting to exhale                  3\n",
       "father of the bride part ii        4\n",
       "                               ...  \n",
       "subdue                         46477\n",
       "century of birthing            46478\n",
       "betrayal                       46479\n",
       "satan triumphant               46480\n",
       "queerama                       46481\n",
       "Length: 46482, dtype: int64"
      ]
     },
     "execution_count": 24,
     "metadata": {},
     "output_type": "execute_result"
    }
   ],
   "source": [
    "movies = movies.reset_index()\n",
    "indices = pd.Series(movies.index, index=movies['title'].apply(lambda x: x.lower() if x is not np.nan else \"\")).drop_duplicates()\n",
    "indices"
   ]
  },
  {
   "attachments": {},
   "cell_type": "markdown",
   "metadata": {},
   "source": [
    "Recommending using Movie only"
   ]
  },
  {
   "cell_type": "code",
   "execution_count": 25,
   "metadata": {},
   "outputs": [],
   "source": [
    "def content_recommender(title, lim = 10):\n",
    "    idx = indices[title.lower()]\n",
    "    sim_scores = list(enumerate(cosine_sim[idx]))\n",
    "    sim_scores = sorted(sim_scores, key=lambda x:x[1], reverse=True)\n",
    "    \n",
    "    sim_scores = sim_scores[:lim]\n",
    "\n",
    "    book_indices = [i[0] for i in sim_scores]\n",
    "\n",
    "    return books.iloc[book_indices]"
   ]
  },
  {
   "cell_type": "code",
   "execution_count": 26,
   "metadata": {},
   "outputs": [
    {
     "name": "stdout",
     "output_type": "stream",
     "text": [
      "A Short History of Nearly Everything\n",
      "Walk Two Moons\n",
      "The Pillars of the Earth\n",
      "Записки из подполья\n",
      "Old Man's War\n",
      "Native Son \n",
      "Confessions of an Ugly Stepsister\n",
      "The Gift of the Magi\n",
      "The War of the Worlds\n",
      "Mountains Beyond Mountains: The Quest of Dr. Paul Farmer, a Man Who Would Cure the World\n"
     ]
    }
   ],
   "source": [
    "for i in range(10):\n",
    "    print(content_recommender('The Matrix')[\"original_title\"].iloc[i])"
   ]
  },
  {
   "cell_type": "code",
   "execution_count": 27,
   "metadata": {},
   "outputs": [],
   "source": [
    "userDf = pd.read_csv('../Dataset/movies/ratings_small.csv')\n",
    "\n",
    "def assignVal(x):\n",
    "    if x >= 0 and x <= 1:\n",
    "        return -2\n",
    "    if x <= 2:\n",
    "        return -1\n",
    "    if x <= 3:\n",
    "        return 1\n",
    "    if x <= 4:\n",
    "        return 2\n",
    "    if x <= 5:\n",
    "        return 3\n",
    "\n",
    "\n",
    "userDf[\"rating\"] = userDf[\"rating\"].apply(assignVal)"
   ]
  },
  {
   "attachments": {},
   "cell_type": "markdown",
   "metadata": {},
   "source": [
    "Recommending book using User "
   ]
  },
  {
   "cell_type": "code",
   "execution_count": 28,
   "metadata": {},
   "outputs": [
    {
     "data": {
      "text/plain": [
       "{'Rocky III': 1,\n",
       " 'Greed': -2,\n",
       " 'American Pie': 2,\n",
       " 'My Tutor': -1,\n",
       " 'Jay and Silent Bob Strike Back': -1,\n",
       " 'Confidentially Yours': 1}"
      ]
     },
     "execution_count": 28,
     "metadata": {},
     "output_type": "execute_result"
    }
   ],
   "source": [
    "def getUserMovies(userID) :\n",
    "    thisDf = (userDf.loc[userDf['userId'] == userID])\n",
    "    \n",
    "    title_rating = dict()\n",
    "\n",
    "    for i in thisDf.index:\n",
    "        id = int(thisDf['movieId'][i])\n",
    "        rat = thisDf['rating'][i]\n",
    "        if not movies.loc[movies['id'] == id].empty:\n",
    "            # print((movies.loc[movies['id'] == id]['title'].values[0]))\n",
    "            title_rating[(movies.loc[movies['id'] == id]['title'].values[0])] = rat\n",
    "    \n",
    "    return title_rating\n",
    "\n",
    "\n",
    "getUserMovies(1)"
   ]
  },
  {
   "cell_type": "code",
   "execution_count": 29,
   "metadata": {},
   "outputs": [
    {
     "data": {
      "text/plain": [
       "['American Psycho',\n",
       " 'Heidi',\n",
       " 'A Separate Peace',\n",
       " 'Ramona Quimby, Age 8',\n",
       " 'Losing It',\n",
       " 'Hogfather',\n",
       " 'Rework',\n",
       " 'The Pact',\n",
       " 'The Magicians',\n",
       " \"It's Kind of a Funny Story\"]"
      ]
     },
     "execution_count": 29,
     "metadata": {},
     "output_type": "execute_result"
    }
   ],
   "source": [
    "\n",
    "def userRecommender(user, lim = 10):\n",
    "      \n",
    "      movieScore = getUserMovies(user)\n",
    "\n",
    "      AllRecomm = dict()\n",
    "\n",
    "      for movie, score in movieScore.items():\n",
    "            curRecomm = content_recommender(movie, 50)\n",
    "\n",
    "            for i in range(50):\n",
    "                  title = curRecomm[\"original_title\"].iloc[i]\n",
    "\n",
    "                  if title in AllRecomm.keys():\n",
    "                        AllRecomm[title] += score\n",
    "                  else:\n",
    "                        AllRecomm[title] = score\n",
    "\n",
    "      AllRecomm = dict(sorted(AllRecomm.items(),key= lambda x:x[1], reverse=True))\n",
    "      \n",
    "      return list(AllRecomm.keys())[0:lim]\n",
    "    \n",
    "userRecommender(1)"
   ]
  },
  {
   "cell_type": "code",
   "execution_count": 30,
   "metadata": {},
   "outputs": [
    {
     "data": {
      "application/vnd.jupyter.widget-view+json": {
       "model_id": "331aa66eeb9f46118ec0d9852e416f69",
       "version_major": 2,
       "version_minor": 0
      },
      "text/plain": [
       "interactive(children=(Text(value='Star Wars', description='movie_name'), Output()), _dom_classes=('widget-inte…"
      ]
     },
     "metadata": {},
     "output_type": "display_data"
    },
    {
     "data": {
      "text/plain": [
       "<function __main__.show_books(movie_name='Star Wars')>"
      ]
     },
     "metadata": {},
     "output_type": "display_data"
    }
   ],
   "source": [
    "import ipywidgets\n",
    "from IPython.display import HTML\n",
    "\n",
    "\n",
    "def show_books(movie_name='Star Wars'):\n",
    "    recommendations = content_recommender(movie_name)\n",
    "    for i in range(10):\n",
    "          print(recommendations[\"original_title\"].iloc[i])\n",
    "display(ipywidgets.interact(show_books))"
   ]
  },
  {
   "cell_type": "code",
   "execution_count": 31,
   "metadata": {},
   "outputs": [
    {
     "data": {
      "application/vnd.jupyter.widget-view+json": {
       "model_id": "581ea14a4c5048258efe972d2fbb57b4",
       "version_major": 2,
       "version_minor": 0
      },
      "text/plain": [
       "interactive(children=(Text(value='1', description='userID'), Output()), _dom_classes=('widget-interact',))"
      ]
     },
     "metadata": {},
     "output_type": "display_data"
    },
    {
     "data": {
      "text/plain": [
       "<function __main__.show_books(userID='1')>"
      ]
     },
     "metadata": {},
     "output_type": "display_data"
    }
   ],
   "source": [
    "import ipywidgets\n",
    "from IPython.display import HTML\n",
    "\n",
    "\n",
    "def show_books(userID='1'):\n",
    "    userID = int(userID)\n",
    "    recommendations = userRecommender(userID)\n",
    "    for recommendation in recommendations:\n",
    "        print(recommendation)\n",
    "display(ipywidgets.interact(show_books))"
   ]
  }
 ],
 "metadata": {
  "kernelspec": {
   "display_name": "base",
   "language": "python",
   "name": "python3"
  },
  "language_info": {
   "codemirror_mode": {
    "name": "ipython",
    "version": 3
   },
   "file_extension": ".py",
   "mimetype": "text/x-python",
   "name": "python",
   "nbconvert_exporter": "python",
   "pygments_lexer": "ipython3",
   "version": "3.10.11"
  },
  "orig_nbformat": 4
 },
 "nbformat": 4,
 "nbformat_minor": 2
}
